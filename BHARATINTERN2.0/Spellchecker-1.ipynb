{
 "cells": [
  {
   "cell_type": "code",
   "execution_count": 9,
   "metadata": {},
   "outputs": [
    {
     "name": "stdout",
     "output_type": "stream",
     "text": [
      "'apple' is spelled correctly.\n"
     ]
    }
   ],
   "source": [
    "# Import the library\n",
    "from spellchecker import SpellChecker\n",
    "\n",
    "# Create a spell checker object\n",
    "spell = SpellChecker()\n",
    "\n",
    "# Ask the user for a word\n",
    "word = input(\"Enter a word: \")\n",
    "\n",
    "# Check if the word is spelled correctly\n",
    "if spell.known([word]):                 \n",
    "    print(f\"'{word}' is spelled correctly.\")\n",
    "else:\n",
    "    # Get the most likely correction\n",
    "    correction = spell.correction(word)\n",
    "    print(f\"The best spelling for '{word}' is '{correction}'.\")\n",
    "\n",
    "    # Get a list of possible corrections\n",
    "    candidates = spell.candidates(word)\n",
    "\n",
    "    # Convert the list of candidates into a comma-separated string with inverted commas around each candidate\n",
    "    candidates_str = \", \".join([f\"'{candidate}'\" for candidate in candidates])\n",
    "\n",
    "    # Print the possible spellings with inverted commas\n",
    "    print(f\"Other possible spellings are: {candidates_str}.\")\n",
    "\n",
    "# End of the code"
   ]
  }
 ],
 "metadata": {
  "kernelspec": {
   "display_name": "Python 3",
   "language": "python",
   "name": "python3"
  },
  "language_info": {
   "codemirror_mode": {
    "name": "ipython",
    "version": 3
   },
   "file_extension": ".py",
   "mimetype": "text/x-python",
   "name": "python",
   "nbconvert_exporter": "python",
   "pygments_lexer": "ipython3",
   "version": "3.11.1"
  },
  "orig_nbformat": 4
 },
 "nbformat": 4,
 "nbformat_minor": 2
}
